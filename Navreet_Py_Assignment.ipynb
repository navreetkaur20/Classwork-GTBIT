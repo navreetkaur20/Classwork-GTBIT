{
 "cells": [
  {
   "cell_type": "markdown",
   "metadata": {},
   "source": [
    "# PROBLEM STATEMENT 1"
   ]
  },
  {
   "cell_type": "code",
   "execution_count": 1,
   "metadata": {},
   "outputs": [
    {
     "name": "stdout",
     "output_type": "stream",
     "text": [
      "Enter your name: Navreet Kaur\n",
      "Enter your Age in years: 21\n",
      "Hi Navreet Kaur you are 21 years old. You will be 100 years old in 2100\n",
      "\n"
     ]
    }
   ],
   "source": [
    "Name = input(\"Enter your name: \")\n",
    "Age = int(input(\"Enter your Age in years: \"))\n",
    "\n",
    "hundred = 2021 - int(Age) + 100\n",
    "\n",
    "message = 'Hi '+ Name + ' you are ' + str(Age) + ' years old. '+ 'You will be 100 years old in ' + str(hundred) + '\\n'\n",
    "\n",
    "print(message)\n"
   ]
  },
  {
   "cell_type": "code",
   "execution_count": 2,
   "metadata": {},
   "outputs": [
    {
     "name": "stdout",
     "output_type": "stream",
     "text": [
      "Select a random number: \n",
      "3\n",
      "Hello Navreet Kaur. You are 21 years old. You will turn 100 years old in 2100. \n",
      "Hello Navreet Kaur. You are 21 years old. You will turn 100 years old in 2100. \n",
      "Hello Navreet Kaur. You are 21 years old. You will turn 100 years old in 2100. \n",
      "\n"
     ]
    }
   ],
   "source": [
    "repeat = int(input('Select a random number: \\n'))\n",
    "a = ('Hello %s. You are %s years old. You will turn 100 years old in %s. \\n' % (Name, Age, hundred))\n",
    "print (a*repeat)"
   ]
  },
  {
   "cell_type": "markdown",
   "metadata": {},
   "source": [
    "# PROBLEM STATEMENT 2"
   ]
  },
  {
   "cell_type": "code",
   "execution_count": 4,
   "metadata": {},
   "outputs": [
    {
     "name": "stdout",
     "output_type": "stream",
     "text": [
      "0\n",
      "2\n",
      "1\n",
      "3\n"
     ]
    }
   ],
   "source": [
    "\n",
    "a = [0, 2, 1, 3, 5, 7, 8, 9, 13, 21, 34, 55, 89]\n",
    "\n",
    "for i in a:\n",
    "    if i < 5:\n",
    "        print(i)"
   ]
  },
  {
   "cell_type": "markdown",
   "metadata": {},
   "source": [
    "Extras \n",
    "Q1:- Instead of printing the elements one by one, make a new list that has all the\n",
    "elements less than 5 from this list in it and print out this new list."
   ]
  },
  {
   "cell_type": "code",
   "execution_count": 5,
   "metadata": {},
   "outputs": [
    {
     "name": "stdout",
     "output_type": "stream",
     "text": [
      "[0, 2, 1, 3]\n"
     ]
    }
   ],
   "source": [
    "list_a = []\n",
    "for i in a:\n",
    "    if i < 5:\n",
    "        list_a.append(i)\n",
    "print(list_a) "
   ]
  },
  {
   "cell_type": "markdown",
   "metadata": {},
   "source": [
    "Extras Q2: Write this in one line of Python."
   ]
  },
  {
   "cell_type": "code",
   "execution_count": 6,
   "metadata": {},
   "outputs": [
    {
     "name": "stdout",
     "output_type": "stream",
     "text": [
      "[0, 2, 1, 3]\n"
     ]
    }
   ],
   "source": [
    "print([i for i in a if i < 5])"
   ]
  },
  {
   "cell_type": "markdown",
   "metadata": {},
   "source": [
    "Extras Q3: Ask the user for a number and return a list that contains only elements from the\n",
    "original list a that are smaller than that number given by the user.\n"
   ]
  },
  {
   "cell_type": "code",
   "execution_count": 7,
   "metadata": {},
   "outputs": [
    {
     "name": "stdout",
     "output_type": "stream",
     "text": [
      "Enter a number: 7\n",
      "[0, 2, 1, 3, 5]\n"
     ]
    }
   ],
   "source": [
    "number = int(input('Enter a number: '))\n",
    "print([i for i in a if i < number])"
   ]
  },
  {
   "cell_type": "markdown",
   "metadata": {},
   "source": [
    "# PROBLEM STATEMENT 3"
   ]
  },
  {
   "cell_type": "code",
   "execution_count": 8,
   "metadata": {},
   "outputs": [
    {
     "name": "stdout",
     "output_type": "stream",
     "text": [
      "Enter the number of numbers in the sequence to generate12\n",
      "[1, 1, 2, 3, 5, 8, 13, 21, 34, 55, 89, 144]\n"
     ]
    }
   ],
   "source": [
    "def fibonacci():\n",
    "    number = int(input(\"Enter the number of numbers in the sequence to generate\"))\n",
    "    i = 1\n",
    "    if number == 0:\n",
    "        a = []\n",
    "    elif number == 1:\n",
    "        a = [1]\n",
    "    elif number == 2:\n",
    "        a = [1,1]\n",
    "    elif number > 2:\n",
    "        a = [1,1]\n",
    "        while i < (number - 1):\n",
    "            a.append(a[i] + a[i-1])\n",
    "            i += 1\n",
    "    return a\n",
    "\n",
    "print (fibonacci())"
   ]
  },
  {
   "cell_type": "markdown",
   "metadata": {},
   "source": [
    "# PROBLEM STATEMENT 4"
   ]
  },
  {
   "cell_type": "code",
   "execution_count": 10,
   "metadata": {},
   "outputs": [
    {
     "data": {
      "text/plain": [
       "['A', 'E', 'F', 'H', 'I', 'K', 'N', 'P', 'R', 'T', 'U', 'V']"
      ]
     },
     "execution_count": 10,
     "metadata": {},
     "output_type": "execute_result"
    }
   ],
   "source": [
    "lst1 = ['N','A','V','R','E','E','T','K','A','U']\n",
    "lst2 = ['N','V','R','E','F','H','I',\"K\",\"P\"]\n",
    "\n",
    "#via function (makes one workout of all unique exercises)\n",
    "def remove_duplicates():\n",
    "    todays_workout = []\n",
    "    for i in lst1:\n",
    "        if i not in lst2:\n",
    "            lst2.append(i)\n",
    "            lst2.sort()\n",
    "    return lst2\n",
    "\n",
    "remove_duplicates() # this running stops the set from running"
   ]
  },
  {
   "cell_type": "markdown",
   "metadata": {},
   "source": [
    "Extras:\n",
    "\n",
    "● Write two different functions to do this - one using a loop and constructing a\n",
    "list, and another using sets."
   ]
  },
  {
   "cell_type": "code",
   "execution_count": 13,
   "metadata": {},
   "outputs": [],
   "source": [
    "def set_duplicates():\n",
    "\n",
    "    lst1 = ['N','A','V','R','E','E','T','K','A','U']\n",
    "    lst2 = ['N','V','R','E','F','H','I',\"K\",\"P\"]\n",
    "    return set(lst1+lst2)"
   ]
  },
  {
   "cell_type": "code",
   "execution_count": 14,
   "metadata": {},
   "outputs": [
    {
     "data": {
      "text/plain": [
       "{'A', 'E', 'F', 'H', 'I', 'K', 'N', 'P', 'R', 'T', 'U', 'V'}"
      ]
     },
     "execution_count": 14,
     "metadata": {},
     "output_type": "execute_result"
    }
   ],
   "source": [
    "set_duplicates()"
   ]
  },
  {
   "cell_type": "markdown",
   "metadata": {},
   "source": [
    "# PROBLEM STATEMENT 5"
   ]
  },
  {
   "cell_type": "code",
   "execution_count": 15,
   "metadata": {},
   "outputs": [
    {
     "name": "stdout",
     "output_type": "stream",
     "text": [
      "Enter a number: 234\n",
      "Is not a prime number.\n"
     ]
    }
   ],
   "source": [
    "num = int(input(\"Enter a number: \"))\n",
    "a = [x for x in range(2, num) if num % x == 0]\n",
    "\n",
    "def is_prime(n):\n",
    "    if num > 1:\n",
    "        if len(a) == 0:\n",
    "            print(\"The number is prime!\")\n",
    "        else:\n",
    "            print(\"Is not a prime number.\")\n",
    "    else:\n",
    "        print(\"The number is not prime.\")\n",
    "\n",
    "is_prime(num)"
   ]
  },
  {
   "cell_type": "code",
   "execution_count": null,
   "metadata": {},
   "outputs": [],
   "source": []
  }
 ],
 "metadata": {
  "kernelspec": {
   "display_name": "Python 3",
   "language": "python",
   "name": "python3"
  },
  "language_info": {
   "codemirror_mode": {
    "name": "ipython",
    "version": 3
   },
   "file_extension": ".py",
   "mimetype": "text/x-python",
   "name": "python",
   "nbconvert_exporter": "python",
   "pygments_lexer": "ipython3",
   "version": "3.8.3"
  }
 },
 "nbformat": 4,
 "nbformat_minor": 4
}
